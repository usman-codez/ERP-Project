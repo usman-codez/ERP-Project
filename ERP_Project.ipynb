{
  "nbformat": 4,
  "nbformat_minor": 0,
  "metadata": {
    "colab": {
      "provenance": [],
      "authorship_tag": "ABX9TyM9nJGR6nrNQxdL6UkXDMso",
      "include_colab_link": true
    },
    "kernelspec": {
      "name": "python3",
      "display_name": "Python 3"
    },
    "language_info": {
      "name": "python"
    }
  },
  "cells": [
    {
      "cell_type": "markdown",
      "metadata": {
        "id": "view-in-github",
        "colab_type": "text"
      },
      "source": [
        "<a href=\"https://colab.research.google.com/github/usman-codez/ERP-Project/blob/main/ERP_Project.ipynb\" target=\"_parent\"><img src=\"https://colab.research.google.com/assets/colab-badge.svg\" alt=\"Open In Colab\"/></a>"
      ]
    },
    {
      "cell_type": "code",
      "source": [
        "# Simplified Employee Management\n",
        "def employee():\n",
        "    with open('employee.txt', 'r') as file:\n",
        "        for line in file:\n",
        "            print(line)\n",
        "    emp_name = input(\"Enter employee name: \").title()\n",
        "    print(f\"\\nEmployee ----{emp_name}---- taken.\")\n",
        "    print('***************************')\n",
        "    return emp_name\n",
        "\n",
        "# Simplified Inventory Management\n",
        "def inventory(emp_name):\n",
        "    with open('inventory.txt', 'r') as file:\n",
        "        for line in file:\n",
        "            print(line)\n",
        "\n",
        "    item = input(\"Enter item name: \").title()\n",
        "    with open(\"inventory.txt\", \"w\") as file:\n",
        "        file.write(item)\n",
        "    print(f\"\\n{item} is given to {emp_name}\")\n",
        "\n",
        "    return item\n",
        "\n",
        "# Simplified Sales Management\n",
        "def sales():\n",
        "    with open('inventory.txt', 'r') as file:\n",
        "        item_inventory = file.read()\n",
        "\n",
        "    if item_inventory:\n",
        "        with open('sales.txt', 'w') as file:\n",
        "            file.write(item_inventory)\n",
        "            print(f'The {item_inventory} has been sold.')\n",
        "\n",
        "        with open('inventory.txt', 'w') as file:\n",
        "            file.write(\"\")\n",
        "\n",
        "        with open('sales.txt', 'r') as file:\n",
        "            for line in file:\n",
        "                print(line)\n",
        "    else:\n",
        "        print(\"No item found in inventory to sell.\")\n",
        "\n",
        "# Main Menu\n",
        "def mainmenu():\n",
        "    emp_name = \"\"\n",
        "    item = \"\"\n",
        "\n",
        "    while True:\n",
        "        print(\"\\n1. Manage Employee\")\n",
        "        print(\"2. Manage Inventory\")\n",
        "        print(\"3. Manage Sales\")\n",
        "        print(\"4. Exit\")\n",
        "        choice = input(\"Select an option: \")\n",
        "\n",
        "        if choice == '1':\n",
        "            emp_name = employee()\n",
        "        elif choice == '2':\n",
        "            if emp_name:\n",
        "                item = inventory(emp_name)\n",
        "            else:\n",
        "                print(\"Please manage an employee first.\")\n",
        "        elif choice == '3':\n",
        "            if item:\n",
        "                sales()\n",
        "            else:\n",
        "                print(\"No items in inventory to sell.\")\n",
        "        elif choice == '4':\n",
        "            break\n",
        "        else:\n",
        "            print(\"Invalid choice\")\n",
        "\n",
        "mainmenu()\n"
      ],
      "metadata": {
        "colab": {
          "base_uri": "https://localhost:8080/"
        },
        "id": "9mOve1XSmTLi",
        "outputId": "87ad4553-026a-436f-cb52-b8f731683d34"
      },
      "execution_count": null,
      "outputs": [
        {
          "name": "stdout",
          "output_type": "stream",
          "text": [
            "\n",
            "1. Manage Employee\n",
            "2. Manage Inventory\n",
            "3. Manage Sales\n",
            "4. Exit\n",
            "Select an option: 1\n",
            "Jane\n",
            "\n",
            "Sam\n",
            "\n",
            "Harry\n",
            "\n",
            "Enter employee name: jane\n",
            "\n",
            "Employee ----Jane---- taken.\n",
            "***************************\n",
            "\n",
            "1. Manage Employee\n",
            "2. Manage Inventory\n",
            "3. Manage Sales\n",
            "4. Exit\n",
            "Select an option: 2\n",
            "Pen\n",
            "\n",
            "Glass \n",
            "\n",
            "Boards\n",
            "\n",
            "Laptop\n",
            "Enter item name: laptop\n",
            "\n",
            "Laptop is given to Jane\n",
            "\n",
            "1. Manage Employee\n",
            "2. Manage Inventory\n",
            "3. Manage Sales\n",
            "4. Exit\n",
            "Select an option: 3\n",
            "The Laptop has been sold.\n",
            "Laptop\n",
            "\n",
            "1. Manage Employee\n",
            "2. Manage Inventory\n",
            "3. Manage Sales\n",
            "4. Exit\n",
            "Select an option: 4\n"
          ]
        }
      ]
    }
  ]
}